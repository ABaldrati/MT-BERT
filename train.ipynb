{
 "cells": [
  {
   "cell_type": "code",
   "execution_count": null,
   "metadata": {
    "id": "CAE---p1weXF"
   },
   "outputs": [],
   "source": [
    "from google.colab import drive\n",
    "drive.mount('/content/drive', force_remount=True)"
   ]
  },
  {
   "cell_type": "code",
   "execution_count": null,
   "metadata": {
    "id": "5fUctPKXwg1B"
   },
   "outputs": [],
   "source": [
    "!mkdir /content/drive/My\\ Drive/MT-BERT\n",
    "%cd /content/drive/My\\ Drive/MT-BERT"
   ]
  },
  {
   "cell_type": "code",
   "execution_count": null,
   "metadata": {
    "id": "BX-kBP-jwluD"
   },
   "outputs": [],
   "source": [
    "!mv mt-bert/results* .\n",
    "!rm -r mt-bert\n",
    "!git clone https://gitlab.com/reddeadrecovery/mt-bert \n",
    "!mv results* mt-bert"
   ]
  },
  {
   "cell_type": "code",
   "execution_count": null,
   "metadata": {
    "id": "ty833TW8wqMD"
   },
   "outputs": [],
   "source": [
    "%cd mt-bert\n",
    "!pip install $(sed '1d;$d' Pipfile | sed 's/ = />=/g' | tr '\\n' ' ')"
   ]
  },
  {
   "cell_type": "code",
   "execution_count": null,
   "metadata": {
    "id": "SNFbn_Mzwqyu"
   },
   "outputs": [],
   "source": [
    "!python train_glue.py # Train MT-DNN on GLUE tasks"
   ]
  },
  {
   "cell_type": "code",
   "execution_count": null,
   "metadata": {
    "id": "K9Cy-jPswzgM"
   },
   "outputs": [],
   "source": [
    "from task import Task\n",
    "ST = Task.CoLA.value # Choose which task you want to train in Single Task mode\n",
    "!python fine_tune_task.py  --fine-tune-task $ST"
   ]
  },
  {
   "cell_type": "code",
   "execution_count": null,
   "metadata": {
    "id": "TI796DegxcHI"
   },
   "outputs": [],
   "source": [
    "from task import Task\n",
    "fine_tune_task = Task.CoLA.value # Choose which task you want to train in Single Task mode\n",
    "mt_model_path = None # Insert model path which you want to finetune\n",
    "!python fine_tune_task.py  --from-checkpoint $mt_model_path --fine-tune-task $fine_tune_task"
   ]
  },
  {
   "cell_type": "code",
   "execution_count": null,
   "metadata": {},
   "outputs": [],
   "source": [
    "from task import Task\n",
    "test_task = Task.CoLA.value # Choose which task you want to test\n",
    "mt_model_path = None # Insert model path which you want to test\n",
    "!python test.py  --model $mt_model_path --tasks $test_task # you can also test more tasks in a single run\n",
    "\n",
    "# Note that for SNLI and SciTail tasks you will produce the actual numeric results, fwhile for all other GLUE tasks you\n",
    "# will produce predictions ready to be evaluated on the GLUE evaluation server\n"
   ]
  }
 ],
 "metadata": {
  "colab": {
   "authorship_tag": "ABX9TyMoWY7dyjbx6GQny6c2Uhj1",
   "collapsed_sections": [],
   "name": "train.ipynb",
   "provenance": []
  },
  "kernelspec": {
   "display_name": "Python 3",
   "language": "python",
   "name": "python3"
  },
  "language_info": {
   "codemirror_mode": {
    "name": "ipython",
    "version": 3
   },
   "file_extension": ".py",
   "mimetype": "text/x-python",
   "name": "python",
   "nbconvert_exporter": "python",
   "pygments_lexer": "ipython3",
   "version": "3.8.5"
  }
 },
 "nbformat": 4,
 "nbformat_minor": 1
}